{
 "cells": [
  {
   "cell_type": "markdown",
   "metadata": {},
   "source": [
    "## Import libraries"
   ]
  },
  {
   "cell_type": "code",
   "execution_count": 54,
   "metadata": {},
   "outputs": [],
   "source": [
    "import ast\n",
    "import os\n",
    "import sys\n",
    "import random\n",
    "import itertools\n",
    "sys.path.append('../')\n",
    "\n",
    "import pandas as pd\n",
    "import numpy as np\n",
    "import json\n",
    "from configs.config import cache as cache_path "
   ]
  },
  {
   "cell_type": "markdown",
   "metadata": {},
   "source": [
    "## Defining global variables for df of each category"
   ]
  },
  {
   "cell_type": "markdown",
   "metadata": {},
   "source": [
    "## Read input data"
   ]
  },
  {
   "cell_type": "code",
   "execution_count": 55,
   "metadata": {},
   "outputs": [],
   "source": [
    "activities_file_name = \"activities.csv\"\n",
    "variants_file_name = \"variants.csv\"\n",
    "filtered_folder_name = \"filtered\"\n",
    "chained_filter_params_file_name = \"chained_filter_params.json\"\n",
    "\n",
    "activities = pd.read_csv(os.path.join(cache_path, activities_file_name))\n",
    "variants = pd.read_csv(os.path.join(cache_path, variants_file_name))"
   ]
  },
  {
   "cell_type": "markdown",
   "metadata": {},
   "source": [
    "## Define chaining of filters"
   ]
  },
  {
   "cell_type": "code",
   "execution_count": 56,
   "metadata": {},
   "outputs": [],
   "source": [
    "def apply_filter_chain(param_chain):\n",
    "    for param_dict in param_chain[1:]:\n",
    "        param_dict['params'].setdefault('is_filtered', True)\n",
    "\n",
    "    for chain_param in param_chain:\n",
    "        function = chain_param[\"function\"]\n",
    "        params = chain_param[\"params\"]\n",
    "        function(**params)\n",
    "\n",
    "    param_chain = [{'function': str(param['function']), 'params': param['params']} for param in param_chain]"
   ]
  },
  {
   "cell_type": "markdown",
   "metadata": {},
   "source": [
    "## Filter activities according to the new variants"
   ]
  },
  {
   "cell_type": "code",
   "execution_count": 57,
   "metadata": {},
   "outputs": [],
   "source": [
    "def get_filtered_activities(variants_list, activities):\n",
    "    tasks_from_variants_with_min_tasks = variants_list.values.tolist()\n",
    "    flattened_list = list(itertools.chain.from_iterable(tasks_from_variants_with_min_tasks))\n",
    "    unique_tasks = list(set(flattened_list))\n",
    "\n",
    "    filtered_activities = activities[activities['task'].isin(unique_tasks)]\n",
    "\n",
    "    return filtered_activities"
   ]
  },
  {
   "cell_type": "markdown",
   "metadata": {},
   "source": [
    "## Filter top variants and activities by variant/case counts"
   ]
  },
  {
   "cell_type": "code",
   "execution_count": 58,
   "metadata": {},
   "outputs": [],
   "source": [
    "def get_top_k_variants(variants, k):\n",
    "    top_k_variants = variants.sort_values(by=['count'], ascending=False).head(k)\n",
    "    return top_k_variants\n",
    "\n",
    "def get_tasks_from_top_k_variants(top_variants_series):\n",
    "    tasks_from_top_variants = top_variants_series.values.tolist()\n",
    "    flattened_list = [elem.strip('][').split(', ') for sublist in tasks_from_top_variants for elem in sublist.split(\", \")]\n",
    "\n",
    "    # Merge all lists into a single list and make it unique\n",
    "    unique_tasks = list(set([elem.strip(\"'\") for sublist in flattened_list for elem in sublist]))\n",
    "\n",
    "    return unique_tasks\n",
    "\n",
    "def get_activities_from_top_k_variants(top_variants_series, activities):\n",
    "    tasks_from_top_variants = get_tasks_from_top_k_variants(top_variants_series)\n",
    "\n",
    "    # Filtering rows in the activities dataframe based on tasks present in unique_tasks\n",
    "    top_activities = activities[activities['task'].isin(tasks_from_top_variants)]\n",
    "\n",
    "    return top_activities\n",
    "\n",
    "def filter_top_k_variants(top_variant_count, is_filtered=False, variants=variants, activities=activities):\n",
    "    global top_k_variants\n",
    "    global top_k_activity_cases\n",
    "    \n",
    "    variants_out_path = os.path.join(cache_path, filtered_folder_name, variants_file_name)\n",
    "    activities_out_path = os.path.join(cache_path, filtered_folder_name, activities_file_name)\n",
    "\n",
    "    if is_filtered:\n",
    "        variants = pd.read_csv(variants_out_path)\n",
    "        activities = pd.read_csv(activities_out_path)\n",
    "\n",
    "    top_k_variants = get_top_k_variants(variants, k=top_variant_count)\n",
    "    top_k_activity_cases = get_activities_from_top_k_variants(top_k_variants['task_list'], activities)\n",
    "\n",
    "    top_k_variants.to_csv(variants_out_path, index=False)\n",
    "    top_k_activity_cases.to_csv(activities_out_path, index=False)"
   ]
  },
  {
   "cell_type": "markdown",
   "metadata": {},
   "source": [
    "## Filter variants and activities having min number of associated tasks"
   ]
  },
  {
   "cell_type": "code",
   "execution_count": 59,
   "metadata": {},
   "outputs": [],
   "source": [
    "def get_variants_with_min_tasks(variants, min_tasks_per_variant):\n",
    "    variants['task_list'] = variants['task_list'].apply(ast.literal_eval)\n",
    "    variants_with_min_tasks = variants[variants['task_list'].apply(lambda x: len(x)) >= min_tasks_per_variant]\n",
    "    return variants_with_min_tasks\n",
    "\n",
    "def filter_variants_with_min_tasks(min_tasks_per_variant,is_filtered=False, variants=variants, activities=activities):\n",
    "    global variants_with_min_tasks\n",
    "    global activities_with_min_tasks\n",
    "\n",
    "    variants_out_path = os.path.join(cache_path, filtered_folder_name, variants_file_name)\n",
    "    activities_out_path = os.path.join(cache_path, filtered_folder_name, activities_file_name)\n",
    "\n",
    "    if is_filtered:\n",
    "        variants = pd.read_csv(variants_out_path)\n",
    "        activities = pd.read_csv(activities_out_path)\n",
    "        \n",
    "    variants_with_min_tasks = get_variants_with_min_tasks(variants, min_tasks_per_variant)\n",
    "    activities_with_min_tasks = get_filtered_activities(variants_with_min_tasks['task_list'], activities)\n",
    "\n",
    "    variants_with_min_tasks.to_csv(variants_out_path, index=False)\n",
    "    activities_with_min_tasks.to_csv(activities_out_path, index=False)"
   ]
  },
  {
   "cell_type": "markdown",
   "metadata": {},
   "source": [
    "## Filter variants and activities by min number of case counts"
   ]
  },
  {
   "cell_type": "code",
   "execution_count": 60,
   "metadata": {},
   "outputs": [],
   "source": [
    "def get_variants_with_min_case_counts(variants, min_cases_per_variant):\n",
    "    variants['task_list'] = variants['task_list'].apply(ast.literal_eval)\n",
    "    variants_with_min_case_counts = variants[variants['count'] >= min_cases_per_variant]\n",
    "    return variants_with_min_case_counts\n",
    "\n",
    "def filter_variants_with_min_case_counts(min_cases_per_variant, is_filtered=False, variants=variants, activities=activities):\n",
    "    global variants_with_min_case_counts\n",
    "    global activities_with_min_case_counts\n",
    "    \n",
    "    variants_out_path = os.path.join(cache_path, filtered_folder_name, variants_file_name)\n",
    "    activities_out_path = os.path.join(cache_path, filtered_folder_name, activities_file_name)\n",
    "\n",
    "    if is_filtered:\n",
    "        variants = pd.read_csv(variants_out_path)\n",
    "        activities = pd.read_csv(activities_out_path)\n",
    "\n",
    "    variants_with_min_case_counts = get_variants_with_min_case_counts(variants, min_cases_per_variant)\n",
    "    activities_with_min_case_counts = get_filtered_activities(variants_with_min_case_counts['task_list'], activities)\n",
    "\n",
    "    variants_with_min_case_counts.to_csv(variants_out_path, index=False)\n",
    "    activities_with_min_case_counts.to_csv(activities_out_path, index=False)\n"
   ]
  },
  {
   "cell_type": "markdown",
   "metadata": {},
   "source": [
    "## Filter variants and activities based on variantID"
   ]
  },
  {
   "cell_type": "code",
   "execution_count": 61,
   "metadata": {},
   "outputs": [],
   "source": [
    "def get_variants_with_variant_id(variants, variant_id):\n",
    "    variants_with_variant_id = variants[variants['variant_ID'].isin(variant_id) if isinstance(variant_id, list) else (variants['variant_ID'] == variant_id)]\n",
    "    return variants_with_variant_id\n",
    "\n",
    "def filter_variants_with_variant_id(variant_id, is_filtered=False, variants=variants, activities=activities):\n",
    "    global variants_with_variant_id\n",
    "    global activities_with_variant_id\n",
    "\n",
    "    variants_out_path = os.path.join(cache_path, filtered_folder_name, variants_file_name)\n",
    "    activities_out_path = os.path.join(cache_path, filtered_folder_name, activities_file_name)\n",
    "\n",
    "    if is_filtered:\n",
    "        variants = pd.read_csv(variants_out_path)\n",
    "        activities = pd.read_csv(activities_out_path)\n",
    "        \n",
    "    variants_with_variant_id = get_variants_with_variant_id(variants, variant_id)\n",
    "    activities_with_variant_id = get_filtered_activities(variants_with_variant_id['task_list'], activities)\n",
    "\n",
    "    variants_with_variant_id.to_csv(variants_out_path, index=False)\n",
    "    activities_with_variant_id.to_csv(activities_out_path, index=False)"
   ]
  },
  {
   "cell_type": "markdown",
   "metadata": {},
   "source": [
    "## Filter activities that have a given task in them"
   ]
  },
  {
   "cell_type": "code",
   "execution_count": 62,
   "metadata": {},
   "outputs": [],
   "source": [
    "def get_variants_with_task(variants, task):\n",
    "    # Filter variants based on the presence of the task_list_to_check\n",
    "    variants_with_task = variants[variants['task_list'].apply(lambda x: all(t in x for t in task))]\n",
    "\n",
    "    return variants_with_task\n",
    "\n",
    "def filter_variants_with_task(task, is_filtered=False, variants=variants, activities=activities):\n",
    "    global variants_with_task\n",
    "    global activities_with_task\n",
    "\n",
    "    variants_out_path = os.path.join(cache_path, filtered_folder_name, variants_file_name)\n",
    "    activities_out_path = os.path.join(cache_path, filtered_folder_name, activities_file_name)\n",
    "\n",
    "    if is_filtered:\n",
    "        variants = pd.read_csv(variants_out_path)\n",
    "        activities = pd.read_csv(activities_out_path)\n",
    "        \n",
    "    variants_with_task = get_variants_with_task(variants, task)\n",
    "    activities_with_task = get_filtered_activities(variants_with_task['task_list'], activities)\n",
    "\n",
    "    variants_with_task.to_csv(variants_out_path, index=False)\n",
    "    activities_with_task.to_csv(activities_out_path, index=False)"
   ]
  },
  {
   "cell_type": "markdown",
   "metadata": {},
   "source": [
    "## Filter variants and activities that cover k% of the cases"
   ]
  },
  {
   "cell_type": "code",
   "execution_count": 63,
   "metadata": {},
   "outputs": [],
   "source": [
    "def get_variants_covering_k_percent_cases(variants, cases):\n",
    "    # Get the total number of cases by summing the count column in the variants dataframe\n",
    "    total_cases = variants['count'].sum()\n",
    "\n",
    "    # Percent of cases to cover\n",
    "    cases_to_cover = int(total_cases * (cases / 100))\n",
    "\n",
    "    sorted_df = variants.sort_values(by='count', ascending=False)\n",
    "\n",
    "    # Sorting by the count of the same variant_ID in the variants DataFrame\n",
    "    sorted_df['variant_ID_count'] = sorted_df['variant_ID'].map(variants['variant_ID'].value_counts())\n",
    "    sorted_df = sorted_df.sort_values(by='variant_ID_count')\n",
    "\n",
    "    # Drop the temporary count column used for sorting\n",
    "    sorted_df = sorted_df.drop(columns='variant_ID_count')\n",
    "\n",
    "    # Get the cumulative sum of the count column\n",
    "    sorted_df['cum_sum'] = sorted_df['count'].cumsum()\n",
    "\n",
    "    # Get the variants covering the cases_to_cover\n",
    "    variants_covering_cases = sorted_df[sorted_df['cum_sum'] <= cases_to_cover]\n",
    "\n",
    "    return variants_covering_cases\n",
    "\n",
    "def filter_variants_covering_k_percent_cases(percent_cases, is_filtered=False, variants=variants, activities=activities):\n",
    "    global variants_covering_cases\n",
    "    global activities_covering_cases\n",
    "    \n",
    "    variants_out_path = os.path.join(cache_path, filtered_folder_name, variants_file_name)\n",
    "    activities_out_path = os.path.join(cache_path, filtered_folder_name, activities_file_name)\n",
    "\n",
    "    if is_filtered:\n",
    "        variants = pd.read_csv(variants_out_path)\n",
    "        activities = pd.read_csv(activities_out_path)\n",
    "\n",
    "    variants_covering_cases = get_variants_covering_k_percent_cases(variants, percent_cases)\n",
    "    activities_covering_cases = get_filtered_activities(variants_covering_cases['task_list'], activities)\n",
    "\n",
    "    variants_covering_cases.to_csv(variants_out_path, index=False)\n",
    "    activities_covering_cases.to_csv(activities_out_path, index=False)"
   ]
  },
  {
   "cell_type": "markdown",
   "metadata": {},
   "source": [
    "## Apply the filters"
   ]
  },
  {
   "cell_type": "code",
   "execution_count": 64,
   "metadata": {},
   "outputs": [],
   "source": [
    "# top_variant_count = 10\n",
    "# filter_top_k_variants(top_variant_count, is_filtered=False)\n",
    "\n",
    "# top_k_variants.head()\n",
    "# top_k_activity_cases.head()"
   ]
  },
  {
   "cell_type": "code",
   "execution_count": 65,
   "metadata": {},
   "outputs": [],
   "source": [
    "# min_tasks_per_variant = 5\n",
    "# filter_variants_with_min_tasks(min_tasks_per_variant, is_filtered=False)\n",
    "\n",
    "# variants_with_min_tasks.head()\n",
    "# activities_with_min_tasks.head()"
   ]
  },
  {
   "cell_type": "code",
   "execution_count": 66,
   "metadata": {},
   "outputs": [],
   "source": [
    "# min_cases_per_variant = 5\n",
    "# filter_variants_with_min_case_counts(min_cases_per_variant, is_filtered=False)\n",
    "\n",
    "# variants_with_min_case_counts.head()\n",
    "# activities_with_min_case_counts.head()"
   ]
  },
  {
   "cell_type": "code",
   "execution_count": 67,
   "metadata": {},
   "outputs": [],
   "source": [
    "# selected_variant_id = 9\n",
    "# filter_variants_with_variant_id(selected_variant_id, is_filtered=False)\n",
    "\n",
    "# variants_with_variant_id.head()\n",
    "# activities_with_variant_id.head()"
   ]
  },
  {
   "cell_type": "code",
   "execution_count": 68,
   "metadata": {},
   "outputs": [],
   "source": [
    "# selected_task = 'Attachments'\n",
    "# filter_variants_with_task(selected_task, is_filtered=False)\n",
    "\n",
    "# variants_with_task.head()\n",
    "# activities_with_task.head()"
   ]
  },
  {
   "cell_type": "code",
   "execution_count": 69,
   "metadata": {},
   "outputs": [],
   "source": [
    "# cover_percent_cases = 80\n",
    "# filter_variants_covering_k_percent_cases(cover_percent_cases, is_filtered=False)\n",
    "\n",
    "# variants_covering_cases.head()\n",
    "# activities_covering_cases.head()"
   ]
  },
  {
   "cell_type": "markdown",
   "metadata": {},
   "source": [
    "## Apply chain of filters"
   ]
  },
  {
   "cell_type": "code",
   "execution_count": 70,
   "metadata": {},
   "outputs": [],
   "source": [
    "chained_filter_params = [\n",
    "    {\n",
    "        \"function\": filter_top_k_variants,\n",
    "        \"params\": {\n",
    "            \"top_variant_count\": 10\n",
    "        }\n",
    "    },\n",
    "    {\n",
    "        \"function\": filter_variants_with_min_tasks,\n",
    "        \"params\": {\n",
    "            \"min_tasks_per_variant\": 2\n",
    "        }\n",
    "    },\n",
    "]\n",
    "\n",
    "apply_filter_chain(chained_filter_params)"
   ]
  }
 ],
 "metadata": {
  "kernelspec": {
   "display_name": ".venv",
   "language": "python",
   "name": "python3"
  },
  "language_info": {
   "codemirror_mode": {
    "name": "ipython",
    "version": 3
   },
   "file_extension": ".py",
   "mimetype": "text/x-python",
   "name": "python",
   "nbconvert_exporter": "python",
   "pygments_lexer": "ipython3",
   "version": "3.9.6"
  }
 },
 "nbformat": 4,
 "nbformat_minor": 2
}
