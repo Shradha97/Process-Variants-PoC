{
 "cells": [
  {
   "cell_type": "markdown",
   "metadata": {},
   "source": [
    "## Import libraries"
   ]
  },
  {
   "cell_type": "code",
   "execution_count": null,
   "metadata": {},
   "outputs": [],
   "source": [
    "import sys\n",
    "sys.path.append('../')\n",
    "\n",
    "import os\n",
    "import pandas as pd\n",
    "import numpy as np\n",
    "import src.utils.seq as seq\n",
    "from configs.config import data as data_path, cache as cache_path"
   ]
  },
  {
   "cell_type": "markdown",
   "metadata": {},
   "source": [
    "## Input data paths"
   ]
  },
  {
   "cell_type": "code",
   "execution_count": null,
   "metadata": {},
   "outputs": [],
   "source": [
    "activities_in_file_name = \"activities.csv\"\n",
    "features_in_file_name = \"features.csv\"\n",
    "variants_in_file_name = \"variants.csv\"\n",
    "filtered_folder_name = \"filtered\"\n",
    "task_seq_per_case_fasta_file_name = \"task_seq_per_case.fasta\"\n",
    "activity_seq_per_case_fasta_file_name = \"activity_seq_per_case.fasta\""
   ]
  },
  {
   "cell_type": "markdown",
   "metadata": {},
   "source": [
    "## Case Summary"
   ]
  },
  {
   "cell_type": "code",
   "execution_count": null,
   "metadata": {},
   "outputs": [],
   "source": [
    "class Cases:\n",
    "    def __init__(self):\n",
    "        self.cache_path = cache_path\n",
    "        self.filtered_folder = filtered_folder_name\n",
    "        self.activities_in_file = activities_in_file_name\n",
    "\n",
    "    def get_activities(self):\n",
    "        activities = pd.read_csv(os.path.join(self.cache_path, self.filtered_folder, self.activities_in_file))\n",
    "        return activities\n",
    "\n",
    "    def info(self):\n",
    "        activities = self.get_activities()\n",
    "        reliable_activities = activities[(activities['case'] != \"Missing\") & (activities['case'] != \"0\") & (len(activities[activities['case'].notna()]))]\n",
    "        \n",
    "        print(\"RELIABLE = Cases not missing/None/NaN and not 0\\n\")\n",
    "        print(\"Cases with value = 0: {}\".format(len(activities[activities['case'] == \"0\"])))\n",
    "        print(\"Missing cases: {}\".format((len(activities[activities['case']==\"Missing\"])) or (len(activities[activities['case']==\"None\"])) or (len(activities[activities['case'].isna()]))))\n",
    "        print(\"\\n\")\n",
    "        print(\"Total reliable cases: {}\".format(len(reliable_activities['case'])))\n",
    "        print(\"Unique reliable cases: {}\".format(len(reliable_activities['case'].unique())))\n",
    "             \n",
    "cases = Cases()"
   ]
  },
  {
   "cell_type": "markdown",
   "metadata": {},
   "source": [
    "## Activity Summary"
   ]
  },
  {
   "cell_type": "code",
   "execution_count": null,
   "metadata": {},
   "outputs": [],
   "source": [
    "class Activities:\n",
    "    def __init__(self):\n",
    "        self.cache_path = cache_path\n",
    "        self.filtered_folder = filtered_folder_name\n",
    "        self.activities_in_file = activities_in_file_name\n",
    "\n",
    "    def get_activities(self):\n",
    "        activities = pd.read_csv(os.path.join(self.cache_path, self.filtered_folder, self.activities_in_file))\n",
    "        return activities\n",
    "\n",
    "    def info(self):\n",
    "        activities = self.get_activities()\n",
    "        reliable_activities = activities[(activities['case'] != \"Missing\") & (activities['case'] != \"0\") & (len(activities[activities['case'].notna()]))]\n",
    "        \n",
    "        print(\"RELIABLE = Cases not missing/None/NaN and not 0\\n\")\n",
    "        print(\"Total reliable activities: {}\".format(len(reliable_activities)))\n",
    "        print(\"Unique reilable activities: {}\".format(len(reliable_activities['activity'].unique())))\n",
    "             \n",
    "activities = Activities()"
   ]
  },
  {
   "cell_type": "markdown",
   "metadata": {},
   "source": [
    "## Task Summary"
   ]
  },
  {
   "cell_type": "code",
   "execution_count": null,
   "metadata": {},
   "outputs": [],
   "source": [
    "class Tasks:\n",
    "    def __init__(self):\n",
    "        self.cache_path = cache_path\n",
    "        self.filtered_folder = filtered_folder_name\n",
    "        self.activities_in_file = activities_in_file_name\n",
    "\n",
    "    def get_activities(self):\n",
    "        activities = pd.read_csv(os.path.join(self.cache_path, self.filtered_folder, self.activities_in_file))\n",
    "        return activities\n",
    "\n",
    "    def info(self):\n",
    "        activities = self.get_activities()\n",
    "        reliable_activities = activities[(activities['case'] != \"Missing\") & (activities['case'] != \"0\")]\n",
    "        \n",
    "        print(\"RELIABLE = Cases not missing/None/NaN and not 0\\n\")\n",
    "        print(\"Total tasks: {}\".format(len(activities['task'])))\n",
    "        print(\"Unique tasks: {}\".format(len(activities['task'].unique())))\n",
    "        print(\"\\n\")\n",
    "        print(\"Total reliable tasks: {}\".format(len(reliable_activities['task'])))\n",
    "        print(\"Unique reliable tasks: {}\".format(len(reliable_activities['task'].unique())))\n",
    "        print(\"Reliable activities with no task discovered: {}\".format((len(reliable_activities[reliable_activities['task']==\"Missing\"])) or (len(reliable_activities[reliable_activities['task']==\"None\"])) or (len(reliable_activities[reliable_activities['task']==\"\"])) or (len(reliable_activities[reliable_activities['task']==\" \"])) or (len(reliable_activities[reliable_activities['task'].isna()]))))\n",
    "        print(\"Reliable activities with discovered tasks: {}\".format((len(reliable_activities[reliable_activities['task']!=\"Missing\"])) & (len(reliable_activities[reliable_activities['task']!=\"None\"])) & (len(reliable_activities[reliable_activities['task']!=\"\"]) & (len(reliable_activities[reliable_activities['task']!=\" \"]))) & (len(reliable_activities[reliable_activities['task'].notna()]))))\n",
    "         \n",
    "tasks = Tasks()"
   ]
  },
  {
   "cell_type": "markdown",
   "metadata": {},
   "source": [
    "## Variants Summary"
   ]
  },
  {
   "cell_type": "code",
   "execution_count": null,
   "metadata": {},
   "outputs": [],
   "source": [
    "class Variants:\n",
    "    def __init__(self):\n",
    "        self.cache_path = cache_path\n",
    "        self.filtered_folder = filtered_folder_name\n",
    "        self.variants_in_file = variants_in_file_name\n",
    "\n",
    "    def get_variants(self):\n",
    "        activities = pd.read_csv(os.path.join(self.cache_path, self.filtered_folder, self.variants_in_file))\n",
    "        return activities\n",
    "\n",
    "    def info(self):\n",
    "        variants = self.get_variants()\n",
    "        print(\"Total variants: {}\".format(len(variants['variant_ID'].unique())))\n",
    "        print(\"Total subvariants: {}\".format(len(variants)))\n",
    "        print(\"Total variants/subvariants that occur in a single case: {} ({})%\".format(len(variants[variants['count'] == 1]), (len(variants[variants['count'] == 1])/len(variants))*100))\n",
    "\n",
    "variants = Variants()"
   ]
  },
  {
   "cell_type": "markdown",
   "metadata": {},
   "source": [
    "## Check Info"
   ]
  },
  {
   "cell_type": "code",
   "execution_count": null,
   "metadata": {},
   "outputs": [],
   "source": [
    "cases.info()"
   ]
  },
  {
   "cell_type": "code",
   "execution_count": null,
   "metadata": {},
   "outputs": [],
   "source": [
    "activities.info()"
   ]
  },
  {
   "cell_type": "code",
   "execution_count": null,
   "metadata": {},
   "outputs": [],
   "source": [
    "tasks.info()"
   ]
  },
  {
   "cell_type": "code",
   "execution_count": null,
   "metadata": {},
   "outputs": [],
   "source": [
    "variants.info()"
   ]
  }
 ],
 "metadata": {
  "kernelspec": {
   "display_name": ".venv",
   "language": "python",
   "name": "python3"
  },
  "language_info": {
   "codemirror_mode": {
    "name": "ipython",
    "version": 3
   },
   "file_extension": ".py",
   "mimetype": "text/x-python",
   "name": "python",
   "nbconvert_exporter": "python",
   "pygments_lexer": "ipython3",
   "version": "3.9.6"
  }
 },
 "nbformat": 4,
 "nbformat_minor": 2
}
