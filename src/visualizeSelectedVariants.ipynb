{
 "cells": [
  {
   "cell_type": "code",
   "execution_count": null,
   "metadata": {},
   "outputs": [],
   "source": [
    "!pip --quiet install pm4py"
   ]
  },
  {
   "cell_type": "markdown",
   "metadata": {},
   "source": [
    "## Compare select variants"
   ]
  },
  {
   "cell_type": "code",
   "execution_count": null,
   "metadata": {},
   "outputs": [],
   "source": [
    "selected_variants = [\"1\", \"2\", \"3\"]"
   ]
  },
  {
   "cell_type": "code",
   "execution_count": null,
   "metadata": {},
   "outputs": [],
   "source": [
    "import pandas as pd\n",
    "import pm4py\n",
    "import sys\n",
    "sys.path.append('../')\n",
    "from configs.config import cache as cache_path\n",
    "from ast import literal_eval\n",
    "\n",
    "in_file_path = cache_path + \"variants.csv\"\n",
    "\n",
    "variants_df = pd.read_csv(in_file_path).astype({\"variant_ID\": \"str\"})\n",
    "variant_stream = variants_df[variants_df[\"variant_ID\"].isin(selected_variants)]\n",
    "variant_stream[\"task_list\"] = variant_stream[\"task_list\"].apply(literal_eval)\n",
    "# explode the task list column\n",
    "selected_variant_stream = variant_stream.explode(\"task_list\").reset_index()\n",
    "selected_variant_stream['ts'] = selected_variant_stream.index + 1\n",
    "selected_variant_stream[\"ts\"] = selected_variant_stream[\"ts\"].astype({\"ts\": \"datetime64[ns]\"})\n",
    "# selected_variant_stream\n"
   ]
  },
  {
   "cell_type": "markdown",
   "metadata": {},
   "source": [
    "### Show BPMN style diagram view"
   ]
  },
  {
   "cell_type": "code",
   "execution_count": null,
   "metadata": {},
   "outputs": [],
   "source": [
    "df = pm4py.format_dataframe(\n",
    "    selected_variant_stream, \n",
    "    case_id='variant_ID',\n",
    "    activity_key='task_list',\n",
    "    timestamp_key='ts')\n",
    "\n",
    "bpmn_model = pm4py.discover_bpmn_inductive(df)\n",
    "pm4py.view_bpmn(bpmn_model)"
   ]
  },
  {
   "cell_type": "markdown",
   "metadata": {},
   "source": [
    "### Show direct flows graph view"
   ]
  },
  {
   "cell_type": "code",
   "execution_count": null,
   "metadata": {},
   "outputs": [],
   "source": [
    "dfg, start_activities, end_activities = pm4py.discover_dfg(df)\n",
    "pm4py.view_dfg(dfg, start_activities, end_activities)"
   ]
  },
  {
   "cell_type": "markdown",
   "metadata": {},
   "source": [
    "### Show heiristics map view\n"
   ]
  },
  {
   "cell_type": "code",
   "execution_count": null,
   "metadata": {},
   "outputs": [],
   "source": [
    "map = pm4py.discover_heuristics_net(df)\n",
    "pm4py.view_heuristics_net(map)"
   ]
  },
  {
   "cell_type": "code",
   "execution_count": null,
   "metadata": {},
   "outputs": [],
   "source": []
  }
 ],
 "metadata": {
  "kernelspec": {
   "display_name": "Python 3",
   "language": "python",
   "name": "python3"
  },
  "language_info": {
   "codemirror_mode": {
    "name": "ipython",
    "version": 3
   },
   "file_extension": ".py",
   "mimetype": "text/x-python",
   "name": "python",
   "nbconvert_exporter": "python",
   "pygments_lexer": "ipython3",
   "version": "3.9.6"
  }
 },
 "nbformat": 4,
 "nbformat_minor": 2
}
