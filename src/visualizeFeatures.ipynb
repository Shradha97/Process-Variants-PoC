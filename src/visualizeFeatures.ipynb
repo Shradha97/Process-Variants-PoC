{
 "cells": [
  {
   "cell_type": "markdown",
   "metadata": {},
   "source": [
    "## Setup"
   ]
  },
  {
   "cell_type": "code",
   "execution_count": null,
   "metadata": {},
   "outputs": [],
   "source": [
    "!pip install --quiet matplotlib\n",
    "!pip install --quiet plotly\n",
    "!pip install --quiet nbformat\n",
    "!pip install --quiet ipykernel\n",
    "!pip install --quiet ipywidgets"
   ]
  },
  {
   "cell_type": "markdown",
   "metadata": {},
   "source": [
    "## Import required libraries"
   ]
  },
  {
   "cell_type": "code",
   "execution_count": null,
   "metadata": {},
   "outputs": [],
   "source": [
    "import sys\n",
    "sys.path.append('../')\n",
    "\n",
    "import pandas as pd\n",
    "import plotly.express as px\n",
    "import dash\n",
    "import dash_html_components as html\n",
    "import dash_core_components as dcc\n",
    "from dash.dependencies import Input, Output\n",
    "import pandas as pd\n",
    "import plotly.graph_objects as go\n",
    "from configs.config import cache as cache_path"
   ]
  },
  {
   "cell_type": "markdown",
   "metadata": {},
   "source": [
    "## Read input data"
   ]
  },
  {
   "cell_type": "code",
   "execution_count": null,
   "metadata": {},
   "outputs": [],
   "source": [
    "in_file_name = \"features.csv\"\n",
    "features_data = pd.read_csv(cache_path + in_file_name)"
   ]
  },
  {
   "cell_type": "code",
   "execution_count": null,
   "metadata": {},
   "outputs": [],
   "source": [
    "# take only first 1000 rows\n",
    "features_data = features_data.head(1000)"
   ]
  },
  {
   "cell_type": "code",
   "execution_count": null,
   "metadata": {},
   "outputs": [],
   "source": [
    "features_data.info()"
   ]
  },
  {
   "cell_type": "markdown",
   "metadata": {},
   "source": [
    "## Visualize different plots from dropdown"
   ]
  },
  {
   "cell_type": "code",
   "execution_count": null,
   "metadata": {},
   "outputs": [],
   "source": [
    "app = dash.Dash(__name__)\n",
    "\n",
    "df = pd.DataFrame(features_data)\n",
    "\n",
    "app.layout =html.Div([\n",
    "    dcc.Dropdown(\n",
    "        id='graph-type',\n",
    "        placeholder='Select graph type',\n",
    "        options=[\n",
    "            {'label': 'Processing Time per Task per Case', 'value': 'processing_time'},\n",
    "            {'label': 'Activity Count per Task per Case', 'value': 'activity_count'},\n",
    "            {'label': 'Task Switches per Task per Case', 'value': 'task_switch'},\n",
    "            {'label': 'Features Table', 'value': 'features_table'}\n",
    "        ]\n",
    "    ),\n",
    "    dcc.Graph(\n",
    "        id='graph'\n",
    "    )\n",
    "])\n",
    "\n",
    "@app.callback(\n",
    "    Output('graph', 'figure'),\n",
    "    [Input('graph-type', 'value')]\n",
    ")\n",
    "def choose_graph_type(graph_type):\n",
    "    if graph_type is None:\n",
    "        raise dash.exceptions.PreventUpdate()\n",
    "\n",
    "    sorted_df = df.sort_values(by=['case', 'first_TS'])\n",
    "\n",
    "    if graph_type == 'processing_time':\n",
    "        grouped_df = sorted_df.groupby(['case', 'task'])['processing_time'].sum().reset_index()\n",
    "\n",
    "        # Calculate total sum of PT for each case (required for ordering the bars)\n",
    "        sorted_bars_df = sorted_df.groupby('case')['processing_time'].sum().reset_index()\n",
    "        sorted_bars_df = sorted_bars_df.sort_values(by='processing_time', ascending=False)\n",
    "        category_order = sorted_bars_df['case'].tolist()\n",
    "\n",
    "        # convert case column to string to avoid sorting by number\n",
    "        grouped_df['case'] = grouped_df['case'].astype(str)\n",
    "\n",
    "        # Sort the DataFrame by processing_time in descending order\n",
    "        processing_time_df = grouped_df.sort_values(by='processing_time', ascending=False)\n",
    "\n",
    "        fig = px.bar(processing_time_df, x='case', y='processing_time', color='task', barmode='stack',\n",
    "                     labels={'processing_time': 'Processing Time', 'case': 'Case'},\n",
    "                     title='Processing Time per Task per Case',\n",
    "                     category_orders={'case': category_order})\n",
    "    elif graph_type == 'activity_count':\n",
    "        grouped_df = sorted_df.groupby(['case', 'task'])['activity_count'].sum().reset_index()\n",
    "\n",
    "        # Calculate total sum of activity_count for each case (required for ordering the bars)\n",
    "        sorted_bars_df = sorted_df.groupby('case')['activity_count'].sum().reset_index()\n",
    "        sorted_bars_df = sorted_bars_df.sort_values(by='activity_count', ascending=False)\n",
    "        category_order = sorted_bars_df['case'].tolist()\n",
    "\n",
    "        # convert case column to string to avoid sorting by number\n",
    "        grouped_df['case'] = grouped_df['case'].astype(str)\n",
    "\n",
    "        # Sort the DataFrame by activity_count in descending order\n",
    "        activity_count_df = grouped_df.sort_values(by='activity_count', ascending=False)\n",
    "\n",
    "        fig = px.bar(activity_count_df, x='case', y='activity_count', color='task', barmode='stack',\n",
    "                     labels={'activity_count': 'Activity Count', 'case': 'Case'},\n",
    "                     title='Activity Count per Task per Case',\n",
    "                     category_orders={'case': category_order})\n",
    "    elif graph_type == 'task_switch':\n",
    "        grouped_df = sorted_df.groupby(['case', 'task'])['task_switch'].sum().reset_index()\n",
    "\n",
    "        # Calculate total sum of activity_count for each case (required for ordering the bars)\n",
    "        sorted_bars_df = sorted_df.groupby('case')['task_switch'].sum().reset_index()\n",
    "        sorted_bars_df = sorted_bars_df.sort_values(by='task_switch', ascending=False)\n",
    "        category_order = sorted_bars_df['case'].tolist()\n",
    "\n",
    "        # convert case column to string to avoid sorting by number\n",
    "        grouped_df['case'] = grouped_df['case'].astype(str)\n",
    "\n",
    "        # Sort the DataFrame by task_switch in descending order\n",
    "        task_switch_df = grouped_df.sort_values(by='task_switch', ascending=False)\n",
    "\n",
    "        fig = px.bar(task_switch_df, x='case', y='task_switch', color='task', barmode='stack',\n",
    "                     labels={'task_switch': 'Task Switch', 'case': 'Case'},\n",
    "                     title='Task Switches per Task per Case (Empty = No Switch)',\n",
    "                     category_orders={'case': category_order})\n",
    "    elif graph_type == 'features_table':\n",
    "        fig = go.Figure(data=[go.Table(\n",
    "            header=dict(values=list(sorted_df.columns),\n",
    "                        fill_color='paleturquoise',\n",
    "                        align='left'),\n",
    "            cells=dict(values=[sorted_df[col] for col in sorted_df.columns],\n",
    "                       fill_color='lavender',\n",
    "                       align='left'))\n",
    "        ])\n",
    "        fig.update_layout(title='Features sorted by case and first timestamp of the task')\n",
    "\n",
    "    return fig\n",
    "\n",
    "if __name__ == '__main__':\n",
    "    app.run_server(debug=True, port=8051)\n",
    "\n",
    "\n",
    "# dataframes for viewing and debugging (DO NOT UNCOMMENT THESE HERE AS THEY WILL WORK ONLY WHEN THE CORRESPONDING\n",
    "# GRAPH IS SELECTED IN THE DASHBOARD, THAT'S WHEN THE DATAFRAMES ARE CREATED)\n",
    "# processing_time_df.head(10)\n",
    "# activity_count_df.head(10)\n",
    "# task_switch_df.head(10)"
   ]
  }
 ],
 "metadata": {
  "kernelspec": {
   "display_name": ".venv",
   "language": "python",
   "name": "python3"
  },
  "language_info": {
   "codemirror_mode": {
    "name": "ipython",
    "version": 3
   },
   "file_extension": ".py",
   "mimetype": "text/x-python",
   "name": "python",
   "nbconvert_exporter": "python",
   "pygments_lexer": "ipython3",
   "version": "3.9.6"
  }
 },
 "nbformat": 4,
 "nbformat_minor": 2
}
