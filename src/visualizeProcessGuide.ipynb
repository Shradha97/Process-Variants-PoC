{
 "cells": [
  {
   "cell_type": "code",
   "execution_count": null,
   "metadata": {},
   "outputs": [],
   "source": [
    "nodes = [\"Eve\",\"Cain\", \"Seth\", \"Enos\", \"Noam\", \"Abel\", \"Awan\", \"Enoch\", \"Azura\"]\n",
    "parents = [\"\", \"Eve\", \"Eve\", \"Seth\", \"Seth\", \"Eve\", \"Eve\", \"Awan\", \"Eve\"]\n",
    "parents"
   ]
  },
  {
   "cell_type": "code",
   "execution_count": null,
   "metadata": {},
   "outputs": [],
   "source": [
    "import re\n",
    "import json\n",
    "from bson import json_util\n",
    " \n",
    "date_format = '%Y-%m-%d %H:%M:%S'\n",
    " \n",
    "def replace_matched(match):\n",
    "    groups = match.groups()\n",
    "    return f'\"{next(filter(None, groups), \"\")}\"'\n",
    " \n",
    "def add_comma_between_objects(data):\n",
    "    # Split the data into individual blocks and check if a comma is present after each block\n",
    "    blocks = data.strip().split('\\n}\\n')\n",
    "    formatted_data = ''\n",
    "    for i, block in enumerate(blocks):\n",
    "        if block.endswith(',') or i == len(blocks) - 1:\n",
    "            formatted_data += block\n",
    "        else:\n",
    "            formatted_data += f\"{block}\\n}},\"\n",
    "        # Add a newline except for the last block\n",
    "        if i != len(blocks) - 1:\n",
    "            formatted_data += '\\n'\n",
    " \n",
    "    return formatted_data\n",
    " \n",
    "def read_mongoextjson_file(filename):\n",
    "    with open(filename, \"r\") as f:\n",
    "        bsondata = f.read()\n",
    "        bsondata = add_comma_between_objects(bsondata)\n",
    "        pattern = re.compile(r'(ObjectId|ISODate|Double|NumberInt)\\s*\\(\\s*(\\\"?\\S+\\\"?)\\s*\\)')\n",
    "        replaced_data = pattern.sub(replace_matched, bsondata)\n",
    "        data = json.loads(f\"[{replaced_data}]\", object_hook=json_util.object_hook)\n",
    "        return data"
   ]
  },
  {
   "cell_type": "code",
   "execution_count": null,
   "metadata": {},
   "outputs": [],
   "source": [
    "import pandas as pd\n",
    "# read process guide from ../data/prod-mnr/process_guide.json in data frame\n",
    "df = pd.DataFrame()\n",
    "pg = read_mongoextjson_file(\"../data/prod-mnr/process_guide.json\")\n",
    "pes = pd.DataFrame(pg)[\"process_elements\"]\n",
    "for pe in pes:\n",
    "    # print(pe)\n",
    "    pe = pd.DataFrame(pe)\n",
    "    pe[\"parent_name\"] = pe[\"parent_id\"].map(pe.set_index('id')['name'])\n",
    "    # append pe to df\n",
    "    df = df.append(pe[[\"name\",\"parent_name\"]])\n",
    "# pe = pd.DataFrame(pg[\"process_elements\"])\n",
    "# remove duplicates in df\n",
    "df = df.drop_duplicates()\n",
    "# replace Nan with empty string\n",
    "df = df.fillna(\"Root\")\n",
    "df"
   ]
  },
  {
   "cell_type": "code",
   "execution_count": null,
   "metadata": {},
   "outputs": [],
   "source": [
    "import pandas as pd\n",
    "# read process guide from ../data/prod-mnr/process_guide.json in data frame\n",
    "\n",
    "pg = read_mongoextjson_file(\"../data/prod-mnr/process_guide.json\")\n",
    "pe = pd.DataFrame(pg[3][\"process_elements\"])\n",
    "pe.columns\n",
    "\n",
    "\n",
    "# add a column for parent_name and fill it with the parent name\n",
    "pe[\"parent_name\"] = pe[\"parent_id\"].map(pe.set_index('id')['name'])\n",
    "pe"
   ]
  },
  {
   "cell_type": "code",
   "execution_count": null,
   "metadata": {},
   "outputs": [],
   "source": [
    "def addParent(x):\n",
    "    # x[\"parent_name\"] = \"Hello\"\n",
    "    y = pd.DataFrame(x)\n",
    "    x[\"parent_name\"] = y[\"parent_id\"].map(y.set_index('id')['name'])\n",
    "    return y\n",
    "df = pd.DataFrame(pg)\n",
    "a = pd.DataFrame(df[\"process_elements\"][0])\n",
    "\n",
    "a.apply(addParent, axis=1)\n"
   ]
  },
  {
   "cell_type": "code",
   "execution_count": null,
   "metadata": {},
   "outputs": [],
   "source": [
    "df = pd.DataFrame(pg)\n",
    "pd.json_normalize(df[\"process_elements\"])"
   ]
  },
  {
   "cell_type": "code",
   "execution_count": null,
   "metadata": {},
   "outputs": [],
   "source": [
    "df = pd.DataFrame(pg)\n",
    "x = pd.DataFrame(df[\"process_elements\"])\n",
    "# explode the process_elements column\n",
    "x = x.explode(\"process_elements\", ignore_index=False)\n",
    "y = pd.DataFrame(x[\"process_elements\"])\n",
    "pe\n",
    "# x[\"process_elements\"]\n",
    "pe = pd.json_normalize(x[\"process_elements\"]).reset_index()\n",
    "# pe[[\"name\",\"parent_id\"]]\n",
    "pedf = pe[[\"index\", \"id\", \"name\",\"parent_id\"]]\n",
    "# pedf[\"parent_name\"] = pe[\"parent_id\"].map(pedf.set_index('id')['name'])\n"
   ]
  },
  {
   "cell_type": "code",
   "execution_count": null,
   "metadata": {},
   "outputs": [],
   "source": [
    "nodes = df[[\"name\"]].values.tolist()\n",
    "parents = df[[\"parent_name\"]].values.tolist()\n",
    "print(nodes)\n",
    "print(parents)"
   ]
  },
  {
   "cell_type": "code",
   "execution_count": null,
   "metadata": {},
   "outputs": [],
   "source": [
    "import plotly.express as px\n",
    "\n",
    "print(nodes)\n",
    "print(parents)\n",
    "fig = px.treemap(\n",
    "    names = nodes[:15],\n",
    "    parents = parents[:15]\n",
    ")\n",
    "fig.update_traces(root_color=\"lightgrey\")\n",
    "fig.update_layout(margin = dict(t=50, l=25, r=25, b=25))\n",
    "fig.show()\n"
   ]
  }
 ],
 "metadata": {
  "kernelspec": {
   "display_name": "Python 3",
   "language": "python",
   "name": "python3"
  },
  "language_info": {
   "codemirror_mode": {
    "name": "ipython",
    "version": 3
   },
   "file_extension": ".py",
   "mimetype": "text/x-python",
   "name": "python",
   "nbconvert_exporter": "python",
   "pygments_lexer": "ipython3",
   "version": "3.9.6"
  }
 },
 "nbformat": 4,
 "nbformat_minor": 2
}
