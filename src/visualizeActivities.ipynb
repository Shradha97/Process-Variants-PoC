{
 "cells": [
  {
   "cell_type": "markdown",
   "metadata": {},
   "source": [
    "## Setup"
   ]
  },
  {
   "cell_type": "code",
   "execution_count": null,
   "metadata": {},
   "outputs": [],
   "source": [
    "!pip install --quiet dash dash_bio \n",
    "!pip install --quiet lingpy"
   ]
  },
  {
   "cell_type": "markdown",
   "metadata": {},
   "source": [
    "## Import required libraries"
   ]
  },
  {
   "cell_type": "code",
   "execution_count": null,
   "metadata": {},
   "outputs": [],
   "source": [
    "import sys\n",
    "sys.path.append('../')\n",
    "\n",
    "import json\n",
    "import os\n",
    "from dash import Dash, html\n",
    "import dash_bio as dashbio\n",
    "import pandas as pd\n",
    "import pandas as pd\n",
    "import numpy as np\n",
    "from collections import defaultdict\n",
    "from Bio import SeqIO\n",
    "from Bio.Seq import Seq\n",
    "from Bio.SeqRecord import SeqRecord\n",
    "from Bio.pairwise2 import align\n",
    "import lingpy\n",
    "import lingpy as lp\n",
    "from lingpy import *\n",
    "import src.utils.seq as seq\n",
    "from configs.config import data as data_path, cache as cache_path"
   ]
  },
  {
   "cell_type": "markdown",
   "metadata": {},
   "source": [
    "## Read the input and output data paths"
   ]
  },
  {
   "cell_type": "code",
   "execution_count": null,
   "metadata": {},
   "outputs": [],
   "source": [
    "activities_in_file_name = \"activities.csv\"\n",
    "features_in_file_name = \"features.csv\"\n",
    "variants_in_file_name = \"variants.csv\"\n",
    "filtered_folder_name = \"filtered\"\n",
    "task_seq_per_case_fasta_file_name = \"task_seq_per_case.fasta\"\n",
    "activity_seq_per_case_fasta_file_name = \"activity_seq_per_case.fasta\"\n",
    "\n",
    "app = Dash(__name__)"
   ]
  },
  {
   "cell_type": "markdown",
   "metadata": {},
   "source": [
    "## Functions for visualizing"
   ]
  },
  {
   "cell_type": "code",
   "execution_count": null,
   "metadata": {},
   "outputs": [],
   "source": [
    "# Function to pad sequences with gaps to match the length of the longest sequence\n",
    "def aligned_task_seq(sequences):\n",
    "    aligned_list = mult_align(sequences, pprint=False)\n",
    "    aligned_seq_list = [''.join(sublist) for sublist in aligned_list]\n",
    "\n",
    "    return aligned_seq_list\n",
    "\n",
    "# case as label and tasks as sequence\n",
    "def case_task_seq(data_path=cache_path, file_name=activities_in_file_name, aligned=False, excludeConsecutive=False):\n",
    "    global task_seq_per_case\n",
    "\n",
    "    # read activities csv into pandas dataframe\n",
    "    activities_df = pd.read_csv(os.path.join(data_path, filtered_folder_name, file_name))\n",
    "    # remove cases which are None\n",
    "    activities_df = activities_df[activities_df['case'] != 'None']\n",
    "    activities = activities_df.groupby('case')['task'].apply(list).reset_index(name='tasks')\n",
    "\n",
    "    # get the sequence dictionary\n",
    "    task_alphabet_mapping = seq.get_seq_dict(activities_df, \"task\")\n",
    "    task_seq_per_case, sequences = seq.get_fasta(activities.apply(list), task_alphabet_mapping , \"tasks\", \"case\", excludeConsecutive=excludeConsecutive)\n",
    "\n",
    "    # save the fasta file\n",
    "    seq.save_fasta(task_seq_per_case, os.path.join(data_path, filtered_folder_name, task_seq_per_case_fasta_file_name))\n",
    "\n",
    "    # if aligned:\n",
    "    #     print(task_alphabet_mapping)\n",
    "    #     activities_df[\"aligned_task_list\"] = aligned_task_seq(sequences)\n",
    "    #     task_seq_per_case = seq.get_aligned_fasta(activities_df.apply(list), \"aligned_task_list\", \"case\", label_prefix=\"V\", excludeConsecutive=excludeConsecutive)\n",
    "\n",
    "    return task_seq_per_case, task_alphabet_mapping\n",
    "\n",
    "def case_activity_seq(data_path=cache_path, file_name=activities_in_file_name, aligned=False, excludeConsecutive=False):\n",
    "    global activity_seq_per_case\n",
    "\n",
    "    # read activities csv into pandas dataframe\n",
    "    activities_df = pd.read_csv(os.path.join(data_path, filtered_folder_name, file_name))\n",
    "    # remove cases which are None\n",
    "    activities_df = activities_df[activities_df['case'] != 'None']\n",
    "    activities = activities_df.groupby('case')['activity'].apply(list).reset_index(name='activities')\n",
    "\n",
    "    # get the sequence dictionary\n",
    "    activity_alphabet_mapping = seq.get_seq_dict(activities_df, \"activity\")\n",
    "    activity_seq_per_case, sequences = seq.get_fasta(activities.apply(list), activity_alphabet_mapping , \"activities\", \"case\", excludeConsecutive=excludeConsecutive)\n",
    "\n",
    "    # save the fasta file\n",
    "    seq.save_fasta(activity_seq_per_case, os.path.join(data_path, filtered_folder_name, activity_seq_per_case_fasta_file_name))\n",
    "\n",
    "    # if aligned:\n",
    "    #     print(task_alphabet_mapping)\n",
    "    #     activities_df[\"aligned_task_list\"] = aligned_task_seq(sequences)\n",
    "    #     task_seq_per_case = seq.get_aligned_fasta(activities_df.apply(list), \"aligned_task_list\", \"case\", label_prefix=\"V\", excludeConsecutive=excludeConsecutive)\n",
    "\n",
    "    return activity_seq_per_case, activity_alphabet_mapping\n",
    "\n",
    "\n",
    "def variant_task_seq(data_path=cache_path, activities_file_name=activities_in_file_name, \n",
    "                     variants_file_name=variants_in_file_name, aligned=False, excludeConsecutive=False):\n",
    "    # get the list of files in a directory\n",
    "    variants_file, variants_file = os.listdir(data_path)[0], os.listdir(data_path)[-1]\n",
    "    # read activities csv into pandas dataframe\n",
    "    variants_df = pd.read_csv(os.path.join(data_path, filtered_folder_name, variants_file_name))\n",
    "    activities_df = pd.read_csv(os.path.join(data_path, filtered_folder_name, activities_file_name))\n",
    "\n",
    "    # change task_list column to list\n",
    "    variants_df['task_list'] = variants_df['task_list'].apply(lambda x: [task.strip().strip(\"'\\\"\") for task in x[1:-1].split(',')])\n",
    "\n",
    "    # get the sequence dictionary\n",
    "    task_alphabet_mapping = seq.get_seq_dict(activities_df, \"task\")\n",
    "    task_seq_per_variant, sequences = seq.get_fasta(variants_df.apply(list), task_alphabet_mapping , \"task_list\", \"variant_ID\", label_prefix=\"V\", excludeConsecutive=excludeConsecutive)\n",
    "    \n",
    "    if aligned:\n",
    "        print(task_alphabet_mapping)\n",
    "        variants_df[\"aligned_task_list\"] = aligned_task_seq(sequences)\n",
    "        task_seq_per_variant = seq.get_aligned_fasta(variants_df.apply(list), \"aligned_task_list\", \"variant_ID\", label_prefix=\"V\", excludeConsecutive=excludeConsecutive)\n",
    "\n",
    "    return task_seq_per_variant, task_alphabet_mapping\n",
    "\n",
    "def set_layout(data):\n",
    "    app.layout = html.Div([\n",
    "    dashbio.AlignmentChart(\n",
    "        id='alignment-viewer',\n",
    "        showgap=False,\n",
    "        showconservation=False,\n",
    "        showconsensus=False,\n",
    "        tilewidth=50,\n",
    "        # numtiles=10,\n",
    "        data=data\n",
    "    ),\n",
    "])"
   ]
  },
  {
   "cell_type": "markdown",
   "metadata": {},
   "source": [
    "## Defining different types of case streams"
   ]
  },
  {
   "cell_type": "code",
   "execution_count": null,
   "metadata": {},
   "outputs": [],
   "source": [
    "def case_stream(excludeConsecutive=False, type=\"task\"):\n",
    "    if type == \"task\":\n",
    "        print(\"TASK STREAM BY CASE\")\n",
    "        data, seq_dict = case_task_seq(excludeConsecutive=excludeConsecutive)\n",
    "    elif type == \"activity\":\n",
    "        print(\"ACTIVITY STREAM BY CASE\")\n",
    "        data, seq_dict = case_activity_seq(excludeConsecutive=excludeConsecutive)\n",
    "    else:\n",
    "        raise Exception(\"Type must be either task or activity\")\n",
    "    print(seq_dict)\n",
    "    set_layout(data)\n",
    "    app.run_server(debug=True)"
   ]
  },
  {
   "cell_type": "markdown",
   "metadata": {},
   "source": [
    "## Visualize case stream"
   ]
  },
  {
   "cell_type": "code",
   "execution_count": null,
   "metadata": {},
   "outputs": [],
   "source": [
    "excludeConsecutive = True\n",
    "type = \"task\"\n",
    "\n",
    "case_stream(excludeConsecutive=excludeConsecutive, type=type)\n",
    "\n",
    "# print(task_seq_per_case)\n",
    "# print(task_seq_per_activity)"
   ]
  }
 ],
 "metadata": {
  "kernelspec": {
   "display_name": "Python 3",
   "language": "python",
   "name": "python3"
  },
  "language_info": {
   "codemirror_mode": {
    "name": "ipython",
    "version": 3
   },
   "file_extension": ".py",
   "mimetype": "text/x-python",
   "name": "python",
   "nbconvert_exporter": "python",
   "pygments_lexer": "ipython3",
   "version": "3.9.6"
  }
 },
 "nbformat": 4,
 "nbformat_minor": 2
}
