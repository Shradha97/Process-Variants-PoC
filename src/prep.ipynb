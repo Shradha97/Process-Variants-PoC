{
 "cells": [
  {
   "cell_type": "markdown",
   "metadata": {},
   "source": [
    "## Setup"
   ]
  },
  {
   "cell_type": "code",
   "execution_count": null,
   "metadata": {},
   "outputs": [],
   "source": [
    "!pip install pandas\n",
    "!pip install pymongo\n",
    "!pip install ijson"
   ]
  },
  {
   "cell_type": "markdown",
   "metadata": {},
   "source": [
    "## Import libraries"
   ]
  },
  {
   "cell_type": "code",
   "execution_count": 1,
   "metadata": {},
   "outputs": [],
   "source": [
    "import sys\n",
    "sys.path.append('../')\n",
    "\n",
    "import pandas as pd\n",
    "import os, json, re, pprint\n",
    "from bson import json_util\n",
    "import ijson\n",
    "import time\n",
    "from configs.config import data as data_path, cache as cache_path"
   ]
  },
  {
   "cell_type": "markdown",
   "metadata": {},
   "source": [
    "## Assign input and output data paths"
   ]
  },
  {
   "cell_type": "code",
   "execution_count": 2,
   "metadata": {},
   "outputs": [],
   "source": [
    "in_file_name = \"cleaned_activities.json\"\n",
    "out_file_name = \"activities.csv\"\n",
    "out_path = cache_path + out_file_name"
   ]
  },
  {
   "cell_type": "markdown",
   "metadata": {},
   "source": [
    "# Prepare data\n",
    "\n",
    "* Read the cleaned json data\n",
    "* read it in a stream format as the data is extremely big\n",
    "* select relevant fields\n",
    "* save to data/prep folder"
   ]
  },
  {
   "cell_type": "code",
   "execution_count": 3,
   "metadata": {},
   "outputs": [],
   "source": [
    "def read_json_to_df(data_path, in_file_name):\n",
    "    with open(data_path + in_file_name, 'r') as json_file:\n",
    "        # Use a list comprehension to directly construct the list of parsed JSON objects\n",
    "        json_data = [obj for obj in ijson.items(json_file, 'item')]\n",
    "\n",
    "    return pd.DataFrame(json_data)"
   ]
  },
  {
   "cell_type": "markdown",
   "metadata": {},
   "source": [
    "## Read raw data"
   ]
  },
  {
   "cell_type": "code",
   "execution_count": 4,
   "metadata": {},
   "outputs": [],
   "source": [
    "adf = read_json_to_df(data_path, in_file_name)"
   ]
  },
  {
   "cell_type": "markdown",
   "metadata": {},
   "source": [
    "## Convert raw data into desired format"
   ]
  },
  {
   "cell_type": "code",
   "execution_count": 10,
   "metadata": {},
   "outputs": [],
   "source": [
    "# activities\n",
    "acols = [\"event_time\", \"activity\", \"case\", \"task\", \"processing_time\"]\n",
    "\n",
    "# Setting default values for columns\n",
    "adf['case'] = adf['unique_id'].apply(lambda x: x.get('CaseID', 'Missing') if isinstance(x, dict) else \"Missing\")\n",
    "adf['task'] = adf['activity_specifications'].apply(lambda x: x.get('task_name', 'Missing') if isinstance(x, dict) else \"Missing\")\n",
    "adf['activity'] = adf['activity_specifications'].apply(lambda x: x.get('activity_alias_name', 'Missing') if isinstance(x, dict) else \"Missing\")\n",
    "adf['processing_time'] = adf['processing_time'].fillna(1, inplace=True) if 'processing_time' in adf.columns else 1\n",
    "\n",
    "# Convert 'event_time' to datetime\n",
    "date_format = '%Y-%m-%d %H:%M:%S'  # Change this to your desired date format\n",
    "adf['event_time'] = pd.to_datetime(adf['event_time'].fillna(pd.to_datetime('now'))).dt.strftime(date_format)"
   ]
  },
  {
   "cell_type": "markdown",
   "metadata": {},
   "source": [
    "## Save tranformed raw data to activities.csv file"
   ]
  },
  {
   "cell_type": "code",
   "execution_count": null,
   "metadata": {},
   "outputs": [],
   "source": [
    "# check if path exists, if not create it\n",
    "if not os.path.exists(cache_path):\n",
    "    os.makedirs(cache_path)\n",
    "# save the activities to csv\n",
    "adf[acols].to_csv(cache_path + out_file_name, index=False)"
   ]
  }
 ],
 "metadata": {
  "kernelspec": {
   "display_name": "Python 3",
   "language": "python",
   "name": "python3"
  },
  "language_info": {
   "codemirror_mode": {
    "name": "ipython",
    "version": 3
   },
   "file_extension": ".py",
   "mimetype": "text/x-python",
   "name": "python",
   "nbconvert_exporter": "python",
   "pygments_lexer": "ipython3",
   "version": "3.9.6"
  }
 },
 "nbformat": 4,
 "nbformat_minor": 2
}
