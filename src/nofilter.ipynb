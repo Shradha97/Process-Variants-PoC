{
 "cells": [
  {
   "cell_type": "code",
   "execution_count": 9,
   "metadata": {},
   "outputs": [],
   "source": [
    "import os\n",
    "import sys\n",
    "import random\n",
    "sys.path.append('../')\n",
    "\n",
    "from configs.config import cache as cache_path "
   ]
  },
  {
   "cell_type": "code",
   "execution_count": 10,
   "metadata": {},
   "outputs": [],
   "source": [
    "activities_file_name = \"activities.csv\"\n",
    "variants_file_name = \"variants.csv\"\n",
    "filtered_folder_name = \"filtered\""
   ]
  },
  {
   "cell_type": "code",
   "execution_count": 11,
   "metadata": {},
   "outputs": [],
   "source": [
    "# copy the csv file to another location\n",
    "def copy_csv_file(file_name, source_path, destination_path):\n",
    "    # if the destination path does not exist, create it\n",
    "    if not os.path.exists(destination_path):\n",
    "        os.makedirs(destination_path)\n",
    "    source_file = os.path.join(source_path, file_name)\n",
    "    destination_file = os.path.join(destination_path, file_name)\n",
    "\n",
    "    os.system(\"cp {} {}\".format(source_file, destination_file))"
   ]
  },
  {
   "cell_type": "code",
   "execution_count": 12,
   "metadata": {},
   "outputs": [],
   "source": [
    "copy_csv_file(activities_file_name, cache_path, cache_path+filtered_folder_name)\n",
    "copy_csv_file(variants_file_name, cache_path, cache_path+filtered_folder_name)"
   ]
  }
 ],
 "metadata": {
  "kernelspec": {
   "display_name": ".venv",
   "language": "python",
   "name": "python3"
  },
  "language_info": {
   "codemirror_mode": {
    "name": "ipython",
    "version": 3
   },
   "file_extension": ".py",
   "mimetype": "text/x-python",
   "name": "python",
   "nbconvert_exporter": "python",
   "pygments_lexer": "ipython3",
   "version": "3.9.6"
  }
 },
 "nbformat": 4,
 "nbformat_minor": 2
}
