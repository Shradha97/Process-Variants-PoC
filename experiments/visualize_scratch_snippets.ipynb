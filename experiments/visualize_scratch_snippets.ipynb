{
 "cells": [
  {
   "cell_type": "code",
   "execution_count": null,
   "metadata": {},
   "outputs": [],
   "source": [
    "# Calculate total count for each variant\n",
    "variant_counts = features_data.groupby('variant_name')['count'].sum().reset_index()\n",
    "variant_counts = variant_counts.sort_values(by='count', ascending=False)\n",
    "\n",
    "# Sort the DataFrame based on total count for each variant\n",
    "features_data['variant_name'] = pd.Categorical(df['variant_name'], categories=variant_counts['variant_name'], ordered=True)\n",
    "features_data = features_data.sort_values(by='variant_name')\n",
    "\n",
    "# Define different color schemes for lower and upper stacks\n",
    "lower_stack_color = '#1f77b4'  # Blue color for lower stack\n",
    "upper_stack_color = '#ff7f0e'  # Orange color for upper stack\n",
    "\n",
    "# Plotting the stacked bar chart with different colors for lower and upper stacks\n",
    "fig = px.bar(features_data, x='variant_name', y='count', color='count', title='Stacked Bar Chart - Variant Counts',\n",
    "             labels={'variant_name': 'Variant Name', 'count': 'Count'}, \n",
    "             template='plotly_dark', color_discrete_map={1: lower_stack_color, 2: upper_stack_color})\n",
    "\n",
    "fig.update_layout(barmode='stack')\n",
    "fig.show()\n"
   ]
  }
 ],
 "metadata": {
  "language_info": {
   "name": "python"
  }
 },
 "nbformat": 4,
 "nbformat_minor": 2
}
