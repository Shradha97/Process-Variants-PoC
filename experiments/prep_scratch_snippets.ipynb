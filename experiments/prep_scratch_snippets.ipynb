{
 "cells": [
  {
   "cell_type": "code",
   "execution_count": null,
   "metadata": {},
   "outputs": [],
   "source": [
    "import re\n",
    "import json\n",
    "from bson import json_util\n",
    "\n",
    "date_format = '%Y-%m-%d %H:%M:%S'\n",
    "\n",
    "def replace_matched(pattern, data):\n",
    "    return re.sub(\n",
    "            pattern,\n",
    "            lambda match: match.group(2) if match.group(2) else '},',\n",
    "            data,\n",
    "            flags=re.MULTILINE\n",
    "        )\n",
    "\n",
    "def read_mongoextjson_file(filename):\n",
    "    with open(filename, \"r\") as f:\n",
    "        bsondata = f.read()\n",
    "        pattern = r'(ObjectId|ISODate|Double|NumberInt)\\s*\\(\\s*(\\\"?\\S+\\\"?)\\)|(^})(?=\\n{)'\n",
    "        return json.loads(f\"[{replace_matched(pattern, bsondata)}]\", object_hook=json_util.object_hook)"
   ]
  },
  {
   "cell_type": "code",
   "execution_count": null,
   "metadata": {},
   "outputs": [],
   "source": [
    "def add_comma_between_objects(data):\n",
    "    # Split the data into individual blocks and check if a comma is present after each block\n",
    "    blocks = data.strip().split('\\n}\\n')\n",
    "    formatted_data = ''\n",
    "    for i, block in enumerate(blocks):\n",
    "        if block.endswith(',') or i == len(blocks) - 1:\n",
    "            formatted_data += block\n",
    "        else:\n",
    "            formatted_data += f\"{block}\\n}},\"\n",
    "        # Add a newline except for the last block\n",
    "        if i != len(blocks) - 1:\n",
    "            formatted_data += '\\n'\n",
    "\n",
    "    return formatted_data"
   ]
  },
  {
   "cell_type": "code",
   "execution_count": null,
   "metadata": {},
   "outputs": [],
   "source": [
    "# activities\n",
    "acols = [\"event_time\", \"activity\", \"case\", \"task\", \"processing_time\"]\n",
    "\n",
    "# Setting default values for columns\n",
    "# adf['case'] = adf['unique_id'].apply(lambda x: x['CaseID'] if x is not None else \"None\")\n",
    "adf['case'] = adf['unique_id'].fillna('Missing').apply(lambda x: x.get('CaseID', 'Missing'))\n",
    "adf['task'] = adf['activity_specifications'].fillna('Missing').apply(lambda x: x.get('task_name', 'Missing'))\n",
    "# adf['task'] = adf['activity_specifications'].apply(lambda x: x['task_name'] if x is not None else \"None\")\n",
    "# adf['activity'] = adf['activity_specifications'].apply(lambda x: x['activity_alias_name'] if x is not None else \"None\")\n",
    "adf['activity'] = adf['activity_specifications'].fillna('Missing').apply(lambda x: x.get('activity_alias_name', 'Missing'))\n",
    "adf['processing_time'] = adf['processing_time'].fillna(1, inplace=True) if 'processing_time' in adf.columns else 1\n",
    "\n",
    "# Convert 'event_time' to datetime\n",
    "date_format = '%Y-%m-%d %H:%M:%S'  # Change this to your desired date format\n",
    "# adf['event_time'] = pd.to_datetime(adf['event_time']).dt.strftime(date_format)\n",
    "adf['event_time'] = pd.to_datetime(adf['event_time'].fillna(pd.to_datetime('now'))).dt.strftime(date_format)"
   ]
  }
 ],
 "metadata": {
  "language_info": {
   "name": "python"
  }
 },
 "nbformat": 4,
 "nbformat_minor": 2
}
