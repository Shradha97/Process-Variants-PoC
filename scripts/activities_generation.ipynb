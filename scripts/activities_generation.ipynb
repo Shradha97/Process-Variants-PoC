{
 "cells": [
  {
   "cell_type": "markdown",
   "metadata": {},
   "source": [
    "## Setup"
   ]
  },
  {
   "cell_type": "code",
   "execution_count": null,
   "metadata": {},
   "outputs": [],
   "source": [
    "!pip --quiet install bson"
   ]
  },
  {
   "cell_type": "markdown",
   "metadata": {},
   "source": [
    "## Import libraries"
   ]
  },
  {
   "cell_type": "code",
   "execution_count": null,
   "metadata": {},
   "outputs": [],
   "source": [
    "import sys\n",
    "sys.path.append('../')\n",
    "\n",
    "import json\n",
    "import random\n",
    "from datetime import datetime, timedelta\n",
    "from bson import ObjectId\n",
    "import pandas as pd\n",
    "import random\n",
    "from configs.config import data as data_path"
   ]
  },
  {
   "cell_type": "markdown",
   "metadata": {},
   "source": [
    "## Simple7 table"
   ]
  },
  {
   "cell_type": "code",
   "execution_count": null,
   "metadata": {},
   "outputs": [],
   "source": [
    "# Data representing activities\n",
    "activities_7 = [\n",
    "    { \"Case\": \"C1\", \"T1\": 1, \"T2\": \"-\", \"T3\": 2, \"T4\": \"-\" },\n",
    "    { \"Case\": \"C2\", \"T1\": 1, \"T2\": \"-\", \"T3\": 2, \"T4\": \"-\" },\n",
    "    { \"Case\": \"C3\", \"T1\": 1, \"T2\": 2, \"T3\": \"-\", \"T4\": 3 },\n",
    "    { \"Case\": \"C4\", \"T2\": 2, \"T1\": 1, \"T3\": \"-\", \"T4\": 3 },\n",
    "    { \"Case\": \"C5\", \"T1\": 1, \"T2\": 2, \"T3\": 3, \"T4\": \"-\" },\n",
    "    { \"Case\": \"C6\", \"T2\": 2, \"T1\": 1, \"T3\": 3, \"T4\": \"-\" },\n",
    "    { \"Case\": \"C7\", \"T1\": 1, \"T2\": 2, \"T3\": 3, \"T4\": \"-\" }\n",
    "]"
   ]
  },
  {
   "cell_type": "markdown",
   "metadata": {},
   "source": [
    "## Simple7 table with more variants"
   ]
  },
  {
   "cell_type": "code",
   "execution_count": null,
   "metadata": {},
   "outputs": [],
   "source": [
    "# Data representing activities\n",
    "test_activities_7 = [\n",
    "    {\"Case\": \"C1\", \"T1\": 1, \"T2\": \"-\", \"T3\": 2, \"T4\": \"-\"},\n",
    "    {\"Case\": \"C1\", \"T1\": 2, \"T2\": \"-\", \"T3\": 3, \"T4\": \"-\"},\n",
    "    {\"Case\": \"C1\", \"T1\": 3, \"T2\": \"-\", \"T3\": 4, \"T4\": \"-\"},\n",
    "    {\"Case\": \"C1\", \"T1\": 4, \"T2\": \"-\", \"T3\": 5, \"T4\": \"-\"},\n",
    "    {\"Case\": \"C2\", \"T1\": 1, \"T2\": \"-\", \"T3\": 2, \"T4\": \"-\"},\n",
    "    {\"Case\": \"C2\", \"T1\": 2, \"T2\": \"-\", \"T3\": 3, \"T4\": \"-\"},\n",
    "    {\"Case\": \"C2\", \"T1\": 3, \"T2\": \"-\", \"T3\": 4, \"T4\": \"-\"},\n",
    "    {\"Case\": \"C2\", \"T1\": 4, \"T2\": \"-\", \"T3\": 5, \"T4\": \"-\"},\n",
    "    {\"Case\": \"C3\", \"T1\": 1, \"T2\": 2, \"T3\": \"-\", \"T4\": 3},\n",
    "    {\"Case\": \"C3\", \"T1\": 2, \"T2\": 3, \"T3\": \"-\", \"T4\": 4},\n",
    "    {\"Case\": \"C3\", \"T1\": 3, \"T2\": 4, \"T3\": \"-\", \"T4\": 5},\n",
    "    {\"Case\": \"C3\", \"T2\": 1, \"T1\": \"-\", \"T3\": 2, \"T4\": 3},\n",
    "    {\"Case\": \"C3\", \"T2\": 2, \"T1\": \"-\", \"T3\": 3, \"T4\": 4},\n",
    "    {\"Case\": \"C3\", \"T2\": 3, \"T1\": \"-\", \"T3\": 4, \"T4\": 5},\n",
    "    {\"Case\": \"C4\", \"T2\": 2, \"T1\": 1, \"T3\": \"-\", \"T4\": 3},\n",
    "    {\"Case\": \"C4\", \"T2\": 3, \"T1\": 2, \"T3\": \"-\", \"T4\": 4},\n",
    "    {\"Case\": \"C4\", \"T2\": 4, \"T1\": 3, \"T3\": \"-\", \"T4\": 5},\n",
    "    {\"Case\": \"C4\", \"T1\": 2, \"T2\": 1, \"T3\": \"-\", \"T4\": 3},\n",
    "    {\"Case\": \"C4\", \"T1\": 3, \"T2\": 2, \"T3\": \"-\", \"T4\": 4},\n",
    "    {\"Case\": \"C4\", \"T1\": 4, \"T2\": 3, \"T3\": \"-\", \"T4\": 5},\n",
    "    {\"Case\": \"C5\", \"T1\": 1, \"T2\": 2, \"T3\": 3, \"T4\": \"-\"},\n",
    "    {\"Case\": \"C5\", \"T1\": 2, \"T2\": 3, \"T3\": 4, \"T4\": \"-\"},\n",
    "    {\"Case\": \"C5\", \"T1\": 3, \"T2\": 4, \"T3\": 5, \"T4\": \"-\"},\n",
    "    {\"Case\": \"C5\", \"T2\": 1, \"T1\": \"-\", \"T3\": 2, \"T4\": 3},\n",
    "    {\"Case\": \"C5\", \"T2\": 2, \"T1\": \"-\", \"T3\": 3, \"T4\": 4},\n",
    "    {\"Case\": \"C5\", \"T2\": 3, \"T1\": \"-\", \"T3\": 4, \"T4\": 5},\n",
    "    {\"Case\": \"C6\", \"T2\": 2, \"T1\": 1, \"T3\": 3, \"T4\": \"-\"},\n",
    "    {\"Case\": \"C6\", \"T2\": 3, \"T1\": 2, \"T3\": 4, \"T4\": \"-\"},\n",
    "    {\"Case\": \"C6\", \"T2\": 4, \"T1\": 3, \"T3\": 5, \"T4\": \"-\"},\n",
    "    {\"Case\": \"C6\", \"T1\": 2, \"T2\": 1, \"T3\": 3, \"T4\": \"-\"},\n",
    "    {\"Case\": \"C6\", \"T1\": 3, \"T2\": 2, \"T3\": 4, \"T4\": \"-\"},\n",
    "    {\"Case\": \"C6\", \"T1\": 4, \"T2\": 3, \"T3\": 5, \"T4\": \"-\"},\n",
    "    {\"Case\": \"C7\", \"T1\": 1, \"T2\": 2, \"T3\": 3, \"T4\": \"-\"},\n",
    "    {\"Case\": \"C7\", \"T1\": 2, \"T2\": 3, \"T3\": 4, \"T4\": \"-\"},\n",
    "    {\"Case\": \"C7\", \"T1\": 3, \"T2\": 4, \"T3\": 5, \"T4\": \"-\"},\n",
    "    {\"Case\": \"C7\", \"T2\": 1, \"T1\": \"-\", \"T3\": 2, \"T4\": 3},\n",
    "    {\"Case\": \"C7\", \"T2\": 2, \"T1\": \"-\", \"T3\": 3, \"T4\": 4},\n",
    "    {\"Case\": \"C7\", \"T2\": 3, \"T1\": \"-\", \"T3\": 4, \"T4\": 5}\n",
    "]\n"
   ]
  },
  {
   "cell_type": "markdown",
   "metadata": {},
   "source": [
    "## Simple100 table generation"
   ]
  },
  {
   "cell_type": "code",
   "execution_count": null,
   "metadata": {},
   "outputs": [],
   "source": [
    "import pandas as pd\n",
    "import random\n",
    "\n",
    "# Creating simple100 DataFrame with 100 cases and 1 to 20 activities for each task\n",
    "random.seed(42)  # Set a seed for reproducibility\n",
    "cases = ['C' + str(i) for i in range(1, 101)]  # Creating 100 cases\n",
    "\n",
    "# Initializing an empty dictionary to store data for simple100 DataFrame\n",
    "cases_data = {'Case': cases}\n",
    "\n",
    "# Generating random activity counts (1 to 20) for each task and case\n",
    "for task in ['T1', 'T2', 'T3', 'T4']:\n",
    "    activities = [random.choice(range(1, 21)) if random.random() > 0.2 else None for _ in range(100)]\n",
    "    # Setting 20% probability for a missing task (None)\n",
    "    cases_data[task] = activities\n",
    "\n",
    "# Creating the simple100 DataFrame\n",
    "simple100 = pd.DataFrame(cases_data)\n",
    "\n",
    "activities_100 = simple100.fillna('-').to_dict(orient='records')"
   ]
  },
  {
   "cell_type": "markdown",
   "metadata": {},
   "source": [
    "## Assign input and output data paths"
   ]
  },
  {
   "cell_type": "code",
   "execution_count": null,
   "metadata": {},
   "outputs": [],
   "source": [
    "activities = activities_100\n",
    "\n",
    "out_file_name = \"activities.json\"\n",
    "out_path = data_path + out_file_name"
   ]
  },
  {
   "cell_type": "markdown",
   "metadata": {},
   "source": [
    "## Functions to create activities raw data"
   ]
  },
  {
   "cell_type": "code",
   "execution_count": null,
   "metadata": {},
   "outputs": [],
   "source": [
    "# Generate random processing time for each task between 1 and 60 seconds\n",
    "def generate_random_processing_time():\n",
    "    return random.randint(1, 60)\n",
    "\n",
    "# Function to generate a random ObjectId-like string\n",
    "def generate_object_id(generated_object_id_list):\n",
    "    \"\"\"\n",
    "    Generate a random unique ObjectId-like string\n",
    "    \"\"\"\n",
    "    while True:\n",
    "        new_id = str(ObjectId())\n",
    "        if new_id not in generated_object_id_list:\n",
    "            return new_id\n",
    "\n",
    "def generate_random_iso_date(timestamp_counter, task_sequence, key):\n",
    "    # randomly subtract 0-10 seconds from the current time\n",
    "    current_time = datetime.utcnow()\n",
    "    random_minutes = random.randint(0, 2)\n",
    "    random_seconds = random.randint(0, 10)\n",
    "    random_time_delta = timedelta(minutes=random_minutes, seconds=random_seconds)\n",
    "    random_date = (current_time - random_time_delta)\n",
    "\n",
    "    task_index = task_sequence.index(key)\n",
    "    return (random_date + timedelta(seconds=task_index)).isoformat()\n",
    "\n",
    "\n",
    "def init_variables():\n",
    "    # List to store generated JSON objects\n",
    "    generated_objects = []\n",
    "    generated_object_ids = []\n",
    "\n",
    "    # Dictionary to keep track of timestamp counters for each case\n",
    "    timestamp_counters = {}\n",
    "\n",
    "    # List of potential activity alias names\n",
    "    activity_names = [\n",
    "        \"Enter To Sort\",\n",
    "        \"Task Initiation\",\n",
    "        \"Data Collection\",\n",
    "        \"Review and Validate\",\n",
    "        \"Task Completion\"\n",
    "    ]\n",
    "\n",
    "    return generated_objects, generated_object_ids, timestamp_counters, activity_names\n",
    "\n",
    "def create_activities_json(activities):\n",
    "    generated_objects, generated_object_ids, timestamp_counters, activity_names = init_variables()\n",
    "    \n",
    "    # Loop through activities to generate JSON objects for each task of a case\n",
    "    for activity in activities:\n",
    "        case_id = activity[\"Case\"]\n",
    "\n",
    "        if case_id not in timestamp_counters:\n",
    "            timestamp_counters[case_id] = 0  # Initialize timestamp counter for a new case\n",
    "\n",
    "        task_sequence = [key for key, value in sorted(activity.items()) if key != \"Case\" and value != \"-\"]\n",
    "        \n",
    "        for key, value in activity.items():\n",
    "            if key != \"Case\" and value != \"-\":\n",
    "                task_id = generate_object_id(generated_object_ids)\n",
    "                task_timestamp = generate_random_iso_date(timestamp_counters[case_id], task_sequence, key)\n",
    "                task_processing_time = generate_random_processing_time()\n",
    "                timestamp_counters[case_id] += 1  # Increment timestamp counter for subsequent tasks\n",
    "\n",
    "                random_activity_name = random.choice(activity_names)\n",
    "\n",
    "                json_object = {\n",
    "                    \"activity_specifications\": {\n",
    "                        \"activity_alias_name\": random_activity_name,\n",
    "                        \"task_name\": key,\n",
    "                        \"task_id\": f\"{task_id}\",\n",
    "                    },\n",
    "                    \"event_time\": f\"{task_timestamp}\",\n",
    "                    \"unique_id\": {\n",
    "                        \"CaseID\": case_id\n",
    "                    },\n",
    "                    \"processing_time\": f\"{task_processing_time}\",\n",
    "                }\n",
    "\n",
    "                generated_objects.append(json_object)\n",
    "        \n",
    "    return generated_objects"
   ]
  },
  {
   "cell_type": "markdown",
   "metadata": {},
   "source": [
    "## Create the raw activities data and save to activities.json"
   ]
  },
  {
   "cell_type": "code",
   "execution_count": null,
   "metadata": {},
   "outputs": [],
   "source": [
    "# Open file to write\n",
    "with open(out_path, 'w') as file:\n",
    "    generated_objects = create_activities_json(activities)\n",
    "    # Loop through generated_objects to write each JSON object to file\n",
    "    for index, obj in enumerate(generated_objects):\n",
    "        # Write comma for all but first object\n",
    "        if index > 0:\n",
    "            file.write('\\n')\n",
    "\n",
    "        # Write the object to file\n",
    "        file.write(json.dumps(obj, indent=4))\n",
    "\n",
    "        # Add a comma at the end of each object except for the last one\n",
    "        if index < len(generated_objects) - 1:\n",
    "            file.write(',')"
   ]
  }
 ],
 "metadata": {
  "kernelspec": {
   "display_name": ".venv",
   "language": "python",
   "name": "python3"
  },
  "language_info": {
   "codemirror_mode": {
    "name": "ipython",
    "version": 3
   },
   "file_extension": ".py",
   "mimetype": "text/x-python",
   "name": "python",
   "nbconvert_exporter": "python",
   "pygments_lexer": "ipython3",
   "version": "3.9.6"
  }
 },
 "nbformat": 4,
 "nbformat_minor": 2
}
